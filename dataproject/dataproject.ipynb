{
 "cells": [
  {
   "attachments": {},
   "cell_type": "markdown",
   "metadata": {},
   "source": [
    "# Data project - antidepressants "
   ]
  },
  {
   "cell_type": "markdown",
   "metadata": {},
   "source": [
    "Imports and set magics:"
   ]
  },
  {
   "cell_type": "code",
   "execution_count": 3,
   "metadata": {},
   "outputs": [
    {
     "name": "stdout",
     "output_type": "stream",
     "text": [
      "The autoreload extension is already loaded. To reload it, use:\n",
      "  %reload_ext autoreload\n"
     ]
    },
    {
     "name": "stderr",
     "output_type": "stream",
     "text": [
      "C:\\Users\\ladyk\\AppData\\Local\\Temp\\ipykernel_17452\\2246150865.py:4: MatplotlibDeprecationWarning: The seaborn styles shipped by Matplotlib are deprecated since 3.6, as they no longer correspond to the styles shipped by seaborn. However, they will remain available as 'seaborn-v0_8-<style>'. Alternatively, directly use the seaborn API instead.\n",
      "  plt.style.use('seaborn-whitegrid')\n"
     ]
    }
   ],
   "source": [
    "\n",
    "%matplotlib inline\n",
    "import numpy as np\n",
    "import matplotlib.pyplot as plt\n",
    "plt.style.use('seaborn-whitegrid')\n",
    "import pandas as pd\n",
    "import pydst\n",
    "import ipywidgets as widgets\n",
    "dst = pydst.Dst(lang='da')\n",
    "\n",
    "#%run dataproject.py\n",
    "\n",
    "# autoreload modules when code is run\n",
    "%load_ext autoreload\n",
    "%autoreload 2\n",
    "\n",
    "# user written modules\n",
    "import dataproject as dp\n"
   ]
  },
  {
   "cell_type": "code",
   "execution_count": null,
   "metadata": {},
   "outputs": [],
   "source": [
    "bitch = dp.getTotalCounts()\n",
    "\n",
    "print(bitch[0].head())"
   ]
  },
  {
   "cell_type": "code",
   "execution_count": null,
   "metadata": {},
   "outputs": [],
   "source": [
    "#checks the data for use of  seems correct\n",
    "print(dp.Medicine_clean.head())\n",
    "\n",
    "#Development in use of psycholeptica by age group, 2016-2021\n",
    "dp.figure_1()"
   ]
  },
  {
   "attachments": {},
   "cell_type": "markdown",
   "metadata": {},
   "source": [
    "As shown in the above figure the use of psycholeptica is higher, the older you are. People that are 90 and older has the highest use psycholeptica per 100.000 people in all years. The use has mainly been decreasing for people above the age of 40, while it is increasing for people between 0-29. "
   ]
  },
  {
   "cell_type": "code",
   "execution_count": null,
   "metadata": {},
   "outputs": [],
   "source": [
    "J = (Medicine_clean['agegroup'] != '0-9 år') | (Medicine_clean['agegroup'] != '10-19 år') | (Medicine_clean['agegroup'] != '70-79 år') | (Medicine_clean['agegroup'] != '80-89 år') | (Medicine_clean['agegroup'] != '90 og derover')\n",
    "Medicine_help=Medicine_clean[J]\n",
    "\n",
    "\n",
    "Medicine_congregate = Medicine_help.groupby(['year']).sum()\n",
    "Medicine_congregate.head()"
   ]
  },
  {
   "cell_type": "code",
   "execution_count": null,
   "metadata": {},
   "outputs": [],
   "source": [
    "#pct-change\n",
    "\n",
    "\n",
    "\n",
    "\n",
    "# Group the data by agegroup\n",
    "Medicine_clean = Medicine_clean.sort_values(['year', 'agegroup'])\n",
    "Medicin_pct = Medicine_clean.groupby('agegroup')\n",
    "\n",
    "# Calculate the percentage change in count for each year\n",
    "growth_rates = Medicin_pct['count'].pct_change()\n",
    "\n",
    "# Print the result\n",
    "Medicin_pct.head()\n",
    "\n",
    "# Group the data by year and agegroup\n",
    "Medicin_pct = Medicine_clean.groupby(['agegroup'])\n",
    "\n",
    "# Calculate the percentage change in count for each group\n",
    "growth_rates = Medicin_pct['count'].pct_change()\n",
    "\n",
    "# Add the growth_rate series as a new column to the original dataframe\n",
    "Medicine_clean['growth_rate'] = growth_rates*100\n",
    "\n",
    "# Print the results without \"not a number\"\n",
    "\n",
    "Medicine_clean_growth = Medicine_clean.dropna()\n",
    "\n",
    "print(Medicine_clean_growth)"
   ]
  },
  {
   "cell_type": "code",
   "execution_count": null,
   "metadata": {},
   "outputs": [],
   "source": [
    "med_pivot = pd.pivot_table(Medicine_clean, values='growth_rate', index=['agegroup'], columns=['year'])\n",
    "\n",
    "# Create figure and axis objects\n",
    "fig, ax = plt.subplots()\n",
    "\n",
    "# Set width of each bar\n",
    "bar_width = 0.15\n",
    "\n",
    "# Create a bar for each year and age group\n",
    "for i, year in enumerate(med_pivot.columns):\n",
    "    x_pos = np.arange(len(med_pivot.index)) + (i * bar_width)\n",
    "    ax.bar(x_pos, med_pivot[year], width=bar_width, label=str(year))\n",
    "\n",
    "# Set x-axis and y-axis labels and ticks\n",
    "ax.set_xticks(np.arange(len(med_pivot.index)))\n",
    "ax.set_xticklabels(med_pivot.index, rotation=45, ha='right')\n",
    "ax.set_xlabel('Age group')\n",
    "ax.set_ylabel('Growth rate')\n",
    "\n",
    "# Set legend\n",
    "ax.legend(title='Year')\n",
    "\n",
    "# Set title\n",
    "ax.set_title('Development in use of psycholeptica by age group')\n",
    "\n",
    "# Show the plot\n",
    "plt.show()"
   ]
  },
  {
   "cell_type": "markdown",
   "metadata": {},
   "source": [
    "# Read and clean data"
   ]
  },
  {
   "cell_type": "code",
   "execution_count": null,
   "metadata": {},
   "outputs": [],
   "source": [
    "HFUDD11_true = dst.get_data(table_id = 'HFUDD11', variables={'TID':['*'],'ALDER':['*'], 'HFUDD':['*']})\n",
    "#HFUDD11_true = HFUDD11_true.drop() #Drop alle med 2008-2015\n",
    "HFdropped = HFUDD11_true.drop('BOPOMR',axis=1)\n",
    "HFdropped = HFdropped.drop('HERKOMST',axis=1)\n",
    "HFdropped = HFdropped.drop('KØN',axis=1)\n",
    "I = (HFdropped['ALDER'] == 'Alder i alt')\n",
    "HFdropped.drop(HFdropped[I].index,inplace=True)\n",
    "I = (HFdropped['HFUDD'].str[3] != ' ')\n",
    "HFdropped.drop(HFdropped[I].index,inplace=True)\n",
    "I = (HFdropped['TID'].astype(int) < 2016)\n",
    "HFdropped.drop(HFdropped[I].index,inplace=True)\n",
    "I = (HFdropped['TID'].astype(int) > 2021)\n",
    "HFdropped.drop(HFdropped[I].index,inplace=True)\n",
    "I = (HFdropped['ALDER'].str[0] == '1')\n",
    "HFdropped.drop(HFdropped[I].index,inplace=True)\n",
    "I = (HFdropped['HFUDD'] == 'H35 Adgangsgivende uddannelsesforløb')\n",
    "HFdropped.drop(HFdropped[I].index,inplace=True)\n",
    "I = (HFdropped['HFUDD'] == 'H80 Ph.d. og forskeruddannelser')\n",
    "HFdropped.drop(HFdropped[I].index,inplace=True)\n",
    "\n",
    "HFdropped['NEWALDER'] = HFdropped['ALDER'].str[0] + \"0-\" + HFdropped['ALDER'].str[0] + \"9 år\"\n",
    "print(HFdropped.head(10))\n",
    "HFcongregate = HFdropped.groupby(['TID', 'HFUDD']).sum()\n",
    "Agecongregate = HFdropped.groupby(['TID', 'NEWALDER']).sum()\n",
    "\n",
    "\n",
    "\n",
    "uddannelser = HFdropped['HFUDD'].unique().tolist()\n",
    "udannelseslist = ['Grundskole', 'Gymnasiale uddannelser','Erhvervsfaglige uddannelser','Korte videregående uddannelser','Mellemlange videregående uddannelser', 'Bacheloruddannelser', 'Lange videregående uddannelser', 'Uoplyst mv.']\n",
    "print(Agecongregate)\n",
    "Uddannelsesdict = dict(zip(udannelseslist,uddannelser))\n",
    "#print(Uddannelsesdict)\n",
    "#congregate udgøres af 20-69 årige med forskellige uddannelser. Summer ikke til \"Alder i alt\", da der er nogen uddannelser der er fjernet (H35, H80, og øvrige)\n",
    "#print(HFdropped.head(10))\n",
    "#print(HFcongregate.head(10))\n",
    "\n",
    "#to show that there is no missing\n",
    "#print(\"Missing values distribution: \")\n",
    "#print(HFUDD11_true.isnull().mean())\n",
    "#print(\"\")\n"
   ]
  },
  {
   "cell_type": "code",
   "execution_count": 13,
   "metadata": {},
   "outputs": [
    {
     "name": "stdout",
     "output_type": "stream",
     "text": [
      "               Count\n",
      "TID  NEWALDER       \n",
      "2016 20-29 år  26708\n",
      "     30-39 år  31862\n",
      "     40-49 år  51968\n",
      "     50-59 år  70948\n",
      "     60-69 år  79762\n",
      "2017 20-29 år  27994\n",
      "     30-39 år  31724\n",
      "     40-49 år  50286\n"
     ]
    },
    {
     "name": "stderr",
     "output_type": "stream",
     "text": [
      "C:\\Users\\ladyk\\AppData\\Local\\Temp\\ipykernel_20832\\3852084849.py:39: FutureWarning: The default value of numeric_only in DataFrameGroupBy.sum is deprecated. In a future version, numeric_only will default to False. Either specify numeric_only or select only columns which should be valid for the function.\n",
      "  Medicin3congregate = Medicin3_dropped.groupby(['TID', 'HFUDD']).sum()\n",
      "C:\\Users\\ladyk\\AppData\\Local\\Temp\\ipykernel_20832\\3852084849.py:40: FutureWarning: The default value of numeric_only in DataFrameGroupBy.sum is deprecated. In a future version, numeric_only will default to False. Either specify numeric_only or select only columns which should be valid for the function.\n",
      "  Medicin3Agecongregate = Medicin3_dropped.groupby(['TID', 'NEWALDER']).sum()\n"
     ]
    }
   ],
   "source": [
    "#imports MEDICIN3\n",
    "Medicin3_true = dst.get_data(table_id = 'MEDICIN3', variables={'TID':['*'], 'MEDICINTYPE':['*'], 'AGEBYGROUP':['*'], 'UDDANNELSE':['*']})\n",
    "#removes unnecessary columns\n",
    "Medicin3_dropped = Medicin3_true.drop('BNØGLE',axis=1)\n",
    "Medicin3_dropped = Medicin3_dropped.drop('KØN',axis=1)\n",
    "\n",
    "#cleans data so only the necessary variables are left\n",
    "#I = (Medicin3_dropped['KØN'] != \"Køn i alt\")\n",
    "#Medicin3_dropped.drop(Medicin3_dropped[I].index,inplace=True)\n",
    "#I = (Medicin3_dropped['BNØGLE'] != \"Personer\")\n",
    "#Medicin3_dropped.drop(Medicin3_dropped[I].index,inplace=True)\n",
    "I = (Medicin3_dropped['MEDICINTYPE'] != \"N05 Psycholeptica\")\n",
    "Medicin3_dropped.drop(Medicin3_dropped[I].index,inplace=True)\n",
    "I = (Medicin3_dropped['UDDANNELSE'] == \"Uddannelser i alt\")\n",
    "Medicin3_dropped.drop(Medicin3_dropped[I].index,inplace=True)\n",
    "I = (Medicin3_dropped['AGEBYGROUP'] == \"Alder i alt\")\n",
    "Medicin3_dropped.drop(Medicin3_dropped[I].index,inplace=True)\n",
    "I = (Medicin3_dropped['AGEBYGROUP'].str[0] == \"0\")\n",
    "Medicin3_dropped.drop(Medicin3_dropped[I].index,inplace=True)\n",
    "I = (Medicin3_dropped['AGEBYGROUP'].str[0] == \"1\")\n",
    "Medicin3_dropped.drop(Medicin3_dropped[I].index,inplace=True)\n",
    "I = (Medicin3_dropped['AGEBYGROUP'].str[0] == \"7\")\n",
    "Medicin3_dropped.drop(Medicin3_dropped[I].index,inplace=True)\n",
    "I = (Medicin3_dropped['AGEBYGROUP'].str[0] == \"8\")\n",
    "Medicin3_dropped.drop(Medicin3_dropped[I].index,inplace=True)\n",
    "I = (Medicin3_dropped['AGEBYGROUP'].str[0] == \"9\")\n",
    "Medicin3_dropped.drop(Medicin3_dropped[I].index,inplace=True)\n",
    "I = (Medicin3_dropped['INDHOLD'].str[0] == \".\")\n",
    "Medicin3_dropped.drop(Medicin3_dropped[I].index,inplace=True)\n",
    "Medicin3_dropped[\"INDHOLD\"] = Medicin3_dropped[\"INDHOLD\"].astype(int)\n",
    "\n",
    "Medicin3_dropped.rename(columns={'UDDANNELSE':'HFUDD'}, inplace=True)\n",
    "Medicin3_dropped.rename(columns={'INDHOLD':'Count'}, inplace=True)\n",
    "Medicin3_dropped.rename(columns={'AGEBYGROUP':'NEWALDER'}, inplace=True)\n",
    "\n",
    "for key,value in Uddannelsesdict.items():\n",
    "   Medicin3_dropped.HFUDD.replace(key,value,inplace=True)\n",
    "Medicin3_dropped.to_excel(\"output.xlsx\") \n",
    "Medicin3congregate = Medicin3_dropped.groupby(['TID', 'HFUDD']).sum()\n",
    "Medicin3Agecongregate = Medicin3_dropped.groupby(['TID', 'NEWALDER']).sum()\n",
    "print(Medicin3Agecongregate.head(8))\n"
   ]
  },
  {
   "cell_type": "code",
   "execution_count": 14,
   "metadata": {},
   "outputs": [
    {
     "name": "stdout",
     "output_type": "stream",
     "text": [
      "                                                    Count  INDHOLD      andel\n",
      "TID  HFUDD                                                                   \n",
      "2016 H10 Grundskole                                 89878   750438  11.976739\n",
      "     H20 Gymnasiale uddannelser                     17647   378147   4.666704\n",
      "     H30 Erhvervsfaglige uddannelser                80219  1221258   6.568555\n",
      "     H40 Korte videregående uddannelser, KVU         9257   193610   4.781261\n",
      "     H50 Mellemlange videregående uddannelser, MVU  35772   584961   6.115279\n",
      "     H60 Bacheloruddannelser, BACH                   3400    95754   3.550766\n",
      "     H70 Lange videregående uddannelser, LVU        17782   366258   4.855048\n",
      "     H90 Uoplyst mv.                                 7293    49056  14.866683\n",
      "               Count  INDHOLD      andel\n",
      "TID  NEWALDER                           \n",
      "2016 20-29 år  26708   761756   3.506110\n",
      "     30-39 år  31862   660739   4.822176\n",
      "     40-49 år  51968   775672   6.699739\n",
      "     50-59 år  70948   770664   9.206087\n",
      "     60-69 år  79762   670651  11.893220\n",
      "2017 20-29 år  27994   775976   3.607586\n",
      "     30-39 år  31724   663260   4.783041\n",
      "     40-49 år  50286   760210   6.614751\n"
     ]
    }
   ],
   "source": [
    "samlet = Medicin3congregate.join(HFcongregate,how='left',on=['TID','HFUDD'])\n",
    "samletAge = Medicin3Agecongregate.join(Agecongregate,how='left',on=['TID','NEWALDER'])\n",
    "\n",
    "\n",
    "andel=samlet['Count']/samlet['INDHOLD']\n",
    "samlet['andel']=andel*100\n",
    "print(samlet.head(8))\n",
    "andelAge=samletAge['Count'].astype(int)/samletAge['INDHOLD'].astype(int)\n",
    "samletAge['andel']=andelAge*100\n",
    "print(samletAge.head(8))"
   ]
  },
  {
   "attachments": {},
   "cell_type": "markdown",
   "metadata": {},
   "source": [
    "We have chosen only the age-groups 20-69, as this was the only agegroup of complete overlap between MEDICIN3 and HFUDD11.\n",
    " "
   ]
  },
  {
   "cell_type": "markdown",
   "metadata": {},
   "source": [
    "## Explore each data set"
   ]
  },
  {
   "cell_type": "markdown",
   "metadata": {},
   "source": [
    "In order to be able to **explore the raw data**, you may provide **static** and **interactive plots** to show important developments "
   ]
  },
  {
   "cell_type": "markdown",
   "metadata": {},
   "source": [
    "**Interactive plot** :"
   ]
  },
  {
   "cell_type": "markdown",
   "metadata": {},
   "source": [
    "Explain what you see when moving elements of the interactive plot around. "
   ]
  },
  {
   "cell_type": "markdown",
   "metadata": {},
   "source": [
    "# Merge data sets"
   ]
  },
  {
   "cell_type": "markdown",
   "metadata": {},
   "source": [
    "Now you create combinations of your loaded data sets. Remember the illustration of a (inner) **merge**:"
   ]
  },
  {
   "cell_type": "code",
   "execution_count": null,
   "metadata": {},
   "outputs": [
    {
     "data": {
      "image/png": "[encoded data removed]",
      "text/plain": [
       "<Figure size 1500x700 with 1 Axes>"
      ]
     },
     "metadata": {},
     "output_type": "display_data"
    }
   ],
   "source": [
    "plt.figure(figsize=(15,7))\n",
    "v = venn2(subsets = (4, 4, 10), set_labels = ('Data X', 'Data Y'))\n",
    "v.get_label_by_id('100').set_text('dropped')\n",
    "v.get_label_by_id('010').set_text('dropped' )\n",
    "v.get_label_by_id('110').set_text('included')\n",
    "plt.show()"
   ]
  },
  {
   "cell_type": "markdown",
   "metadata": {},
   "source": [
    "# Analysis"
   ]
  },
  {
   "cell_type": "markdown",
   "metadata": {},
   "source": [
    "To get a quick overview of the data, we show some **summary statistics** on a meaningful aggregation. "
   ]
  },
  {
   "cell_type": "code",
   "execution_count": 1,
   "metadata": {},
   "outputs": [
    {
     "ename": "NameError",
     "evalue": "name 'Medicine_clean' is not defined",
     "output_type": "error",
     "traceback": [
      "\u001b[1;31m---------------------------------------------------------------------------\u001b[0m",
      "\u001b[1;31mNameError\u001b[0m                                 Traceback (most recent call last)",
      "\u001b[1;32m~\\AppData\\Local\\Temp\\ipykernel_20832\\171498702.py\u001b[0m in \u001b[0;36m<module>\u001b[1;34m\u001b[0m\n\u001b[1;32m----> 1\u001b[1;33m \u001b[0mMedicine_clean\u001b[0m\u001b[1;33m[\u001b[0m\u001b[1;34m\"count\"\u001b[0m\u001b[1;33m]\u001b[0m\u001b[1;33m.\u001b[0m\u001b[0mdescribe\u001b[0m\u001b[1;33m(\u001b[0m\u001b[1;33m)\u001b[0m\u001b[1;33m\u001b[0m\u001b[1;33m\u001b[0m\u001b[0m\n\u001b[0m",
      "\u001b[1;31mNameError\u001b[0m: name 'Medicine_clean' is not defined"
     ]
    }
   ],
   "source": [
    "Medicine_clean[\"count\"].describe()"
   ]
  },
  {
   "cell_type": "markdown",
   "metadata": {},
   "source": [
    "MAKE FURTHER ANALYSIS. EXPLAIN THE CODE BRIEFLY AND SUMMARIZE THE RESULTS."
   ]
  },
  {
   "cell_type": "markdown",
   "metadata": {},
   "source": [
    "# Conclusion"
   ]
  },
  {
   "cell_type": "code",
   "execution_count": null,
   "metadata": {},
   "outputs": [],
   "source": [
    "bitch, bitch2 = "
   ]
  },
  {
   "attachments": {},
   "cell_type": "markdown",
   "metadata": {},
   "source": [
    "From the analysis of data over antidepresant use, we can conclude that in genereal antidepressants are more commonly used the older people get, but development over the analysed time period shows that young people (here age 0-30) is increasing the useage over time, while the elder generations is decreasing its use.\n",
    "\n",
    "Other than that we have looked at data divided by education level, and from this we can conclude that idividuals that have only compleated their primary school is way more likely to use antidepressants than people with higher educations  "
   ]
  }
 ],
 "metadata": {
  "kernelspec": {
   "display_name": "base",
   "language": "python",
   "name": "python3"
  },
  "language_info": {
   "codemirror_mode": {
    "name": "ipython",
    "version": 3
   },
   "file_extension": ".py",
   "mimetype": "text/x-python",
   "name": "python",
   "nbconvert_exporter": "python",
   "pygments_lexer": "ipython3",
   "version": "3.9.16"
  },
  "toc-autonumbering": true,
  "vscode": {
   "interpreter": {
    "hash": "47ef90cdf3004d3f859f1fb202523c65c07ba7c22eefd261b181f4744e2d0403"
   }
  }
 },
 "nbformat": 4,
 "nbformat_minor": 4
}
