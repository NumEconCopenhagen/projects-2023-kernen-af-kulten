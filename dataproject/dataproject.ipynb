{
 "cells": [
  {
   "attachments": {},
   "cell_type": "markdown",
   "metadata": {},
   "source": [
    "# Data project - antidepressants "
   ]
  },
  {
   "cell_type": "markdown",
   "metadata": {},
   "source": [
    "Imports and set magics:"
   ]
  },
  {
   "cell_type": "code",
   "execution_count": 453,
   "metadata": {},
   "outputs": [
    {
     "name": "stdout",
     "output_type": "stream",
     "text": [
      "The autoreload extension is already loaded. To reload it, use:\n",
      "  %reload_ext autoreload\n"
     ]
    },
    {
     "name": "stderr",
     "output_type": "stream",
     "text": [
      "C:\\Users\\ladyk\\AppData\\Local\\Temp\\ipykernel_13816\\833707093.py:4: MatplotlibDeprecationWarning: The seaborn styles shipped by Matplotlib are deprecated since 3.6, as they no longer correspond to the styles shipped by seaborn. However, they will remain available as 'seaborn-v0_8-<style>'. Alternatively, directly use the seaborn API instead.\n",
      "  plt.style.use('seaborn-whitegrid')\n"
     ]
    }
   ],
   "source": [
    "\n",
    "%matplotlib inline\n",
    "import numpy as np\n",
    "import matplotlib.pyplot as plt\n",
    "plt.style.use('seaborn-whitegrid')\n",
    "import pandas as pd\n",
    "import pydst\n",
    "import ipywidgets as widgets\n",
    "dst = pydst.Dst(lang='da')\n",
    "\n",
    "#%run dataproject.py\n",
    "\n",
    "# autoreload modules when code is run\n",
    "%load_ext autoreload\n",
    "%autoreload 2\n",
    "\n",
    "# user written modules\n",
    "import dataproject"
   ]
  },
  {
   "cell_type": "code",
   "execution_count": 381,
   "metadata": {},
   "outputs": [
    {
     "name": "stderr",
     "output_type": "stream",
     "text": [
      "C:\\Users\\ladyk\\AppData\\Local\\Temp\\ipykernel_13816\\659290362.py:33: SettingWithCopyWarning: \n",
      "A value is trying to be set on a copy of a slice from a DataFrame.\n",
      "Try using .loc[row_indexer,col_indexer] = value instead\n",
      "\n",
      "See the caveats in the documentation: https://pandas.pydata.org/pandas-docs/stable/user_guide/indexing.html#returning-a-view-versus-a-copy\n",
      "  Medicine['count'] = Medicine['count'].astype(int)\n"
     ]
    },
    {
     "data": {
      "text/html": [
       "<div>\n",
       "<style scoped>\n",
       "    .dataframe tbody tr th:only-of-type {\n",
       "        vertical-align: middle;\n",
       "    }\n",
       "\n",
       "    .dataframe tbody tr th {\n",
       "        vertical-align: top;\n",
       "    }\n",
       "\n",
       "    .dataframe thead th {\n",
       "        text-align: right;\n",
       "    }\n",
       "</style>\n",
       "<table border=\"1\" class=\"dataframe\">\n",
       "  <thead>\n",
       "    <tr style=\"text-align: right;\">\n",
       "      <th></th>\n",
       "      <th>year</th>\n",
       "      <th>agegroup</th>\n",
       "      <th>medicinetype</th>\n",
       "      <th>BNØGLE</th>\n",
       "      <th>count</th>\n",
       "    </tr>\n",
       "  </thead>\n",
       "  <tbody>\n",
       "    <tr>\n",
       "      <th>1970</th>\n",
       "      <td>2018</td>\n",
       "      <td>0-9 år</td>\n",
       "      <td>N05 Psycholeptica</td>\n",
       "      <td>Personer</td>\n",
       "      <td>738</td>\n",
       "    </tr>\n",
       "    <tr>\n",
       "      <th>1971</th>\n",
       "      <td>2018</td>\n",
       "      <td>10-19 år</td>\n",
       "      <td>N05 Psycholeptica</td>\n",
       "      <td>Personer</td>\n",
       "      <td>2170</td>\n",
       "    </tr>\n",
       "    <tr>\n",
       "      <th>1972</th>\n",
       "      <td>2018</td>\n",
       "      <td>20-29 år</td>\n",
       "      <td>N05 Psycholeptica</td>\n",
       "      <td>Personer</td>\n",
       "      <td>3726</td>\n",
       "    </tr>\n",
       "    <tr>\n",
       "      <th>1973</th>\n",
       "      <td>2018</td>\n",
       "      <td>30-39 år</td>\n",
       "      <td>N05 Psycholeptica</td>\n",
       "      <td>Personer</td>\n",
       "      <td>4606</td>\n",
       "    </tr>\n",
       "    <tr>\n",
       "      <th>1974</th>\n",
       "      <td>2018</td>\n",
       "      <td>40-49 år</td>\n",
       "      <td>N05 Psycholeptica</td>\n",
       "      <td>Personer</td>\n",
       "      <td>6303</td>\n",
       "    </tr>\n",
       "  </tbody>\n",
       "</table>\n",
       "</div>"
      ],
      "text/plain": [
       "      year  agegroup       medicinetype    BNØGLE  count\n",
       "1970  2018    0-9 år  N05 Psycholeptica  Personer    738\n",
       "1971  2018  10-19 år  N05 Psycholeptica  Personer   2170\n",
       "1972  2018  20-29 år  N05 Psycholeptica  Personer   3726\n",
       "1973  2018  30-39 år  N05 Psycholeptica  Personer   4606\n",
       "1974  2018  40-49 år  N05 Psycholeptica  Personer   6303"
      ]
     },
     "execution_count": 381,
     "metadata": {},
     "output_type": "execute_result"
    }
   ],
   "source": [
    "#rt packeges \n",
    "#name data#columns_dict = {}\n",
    "#columns_dict['AGEBYGROUP'] = 'agegroup'\n",
    "#columns_dict['MEDICINTYPE'] = 'medicinetype'\n",
    "#    columns_dict['INDHOLD'] = 'count'\n",
    "#    columns_dict['Bnøgle'] = 'unit'\n",
    "#    columns_dict['TID'] = 'year'\n",
    "#    \n",
    "#    var_dict = {} # var is for variable\n",
    "#    var_dict['N05 Psycholeptica'] = '5'\n",
    "#    var_dict['N06 Psychoanaleptica'] = '6'\n",
    "#    \n",
    "#    unit_dict = {}\n",
    "#    unit_dict['Personer'] = 'person'\n",
    "#    unit_dict['Indløste recepter'] = 'recepter'\n",
    "\n",
    "\n",
    "#define dataframe #    \n",
    "#    Medicin4_true = dst.get_data(table_id = 'MEDICIN4', variables={'TID':['*'], 'AGEBYGROUP':['*'], \n",
    "#    'MEDICINTYPE':['*']})\n",
    "#    \n",
    "#    Medicin4_true.rename(columns=columns_dict,inplace=True)\n",
    "#print data\n",
    "#Medicine_drop = Medicine.drop('BNØGLE',axis=1)\n",
    "#Medicine_drop = Medicine_drop.drop('KØN',axis=1)\n",
    "#Medicine_drop = Medicine_drop.drop('medicinetype',axis=1)\n",
    "\n",
    "\n",
    "#removes all medicinetypes that isn't Psycholeptica (downer used for anxiety and OCD)\n",
    "Medicin4_true.rename(columns=columns_dict,inplace=True)\n",
    "I = (Medicin4_true['medicinetype'] == 'N05 Psycholeptica') & (Medicin4_true['agegroup'] != 'Alder i alt') & ( Medicin4_true['BNØGLE']=='Personer') & (Medicin4_true['KØN'] == 'Køn i alt')\n",
    "Medicine=Medicin4_true[I]\n",
    "Medicine['count'] = Medicine['count'].astype(int)\n",
    "\n",
    "\n",
    "#drops unnecessary colums\n",
    "#Medicine_drop = Medicine.drop('BNØGLE',axis=1)\n",
    "Medicine_clean = Medicine.drop('KØN',axis=1)\n",
    "Medicine_clean.head()\n"
   ]
  },
  {
   "cell_type": "code",
   "execution_count": 457,
   "metadata": {},
   "outputs": [
    {
     "data": {
      "image/png": "[encoded data removed]",
      "text/plain": [
       "<Figure size 640x480 with 1 Axes>"
      ]
     },
     "metadata": {},
     "output_type": "display_data"
    }
   ],
   "source": [
    "# Create pivot table with 'year' and 'agegroup' as indices and 'count' as values\n",
    "med_pivot = pd.pivot_table(Medicine_clean, values='count', index=['agegroup'], columns=['year'])\n",
    "\n",
    "# Create figure and axis objects\n",
    "fig, ax = plt.subplots()\n",
    "\n",
    "# Set width of each bar\n",
    "bar_width = 0.15\n",
    "\n",
    "# Create a bar for each year and age group\n",
    "for i, year in enumerate(med_pivot.columns):\n",
    "    x_pos = np.arange(len(med_pivot.index)) + (i * bar_width)\n",
    "    ax.bar(x_pos, med_pivot[year], width=bar_width, label=str(year))\n",
    "\n",
    "# Set x-axis and y-axis labels and ticks\n",
    "ax.set_xticks(np.arange(len(med_pivot.index)))\n",
    "ax.set_xticklabels(med_pivot.index, rotation=45, ha='right')\n",
    "ax.set_xlabel('Age group')\n",
    "ax.set_ylabel('Count')\n",
    "\n",
    "# Set legend\n",
    "ax.legend(title='Year')\n",
    "\n",
    "# Set title\n",
    "ax.set_title('Development in use of psycholeptica by age group')\n",
    "\n",
    "\n",
    "# Show the plot\n",
    "plt.show()\n",
    "\n"
   ]
  },
  {
   "attachments": {},
   "cell_type": "markdown",
   "metadata": {},
   "source": [
    "As shown in the above figure the use of psycholeptica is higher, the older you are. People that are 90 and older has the highest use psycholeptica per 100.000 people in all years. The use has mainly been decreasing for people above the age of 40, while it is increasing for people between 0-29. "
   ]
  },
  {
   "cell_type": "code",
   "execution_count": 287,
   "metadata": {},
   "outputs": [
    {
     "name": "stderr",
     "output_type": "stream",
     "text": [
      "C:\\Users\\ladyk\\AppData\\Local\\Temp\\ipykernel_13816\\4278527602.py:5: FutureWarning: The default value of numeric_only in DataFrameGroupBy.sum is deprecated. In a future version, numeric_only will default to False. Either specify numeric_only or select only columns which should be valid for the function.\n",
      "  Medicine_congregate = Medicine_help.groupby(['year']).sum()\n"
     ]
    },
    {
     "data": {
      "text/html": [
       "<div>\n",
       "<style scoped>\n",
       "    .dataframe tbody tr th:only-of-type {\n",
       "        vertical-align: middle;\n",
       "    }\n",
       "\n",
       "    .dataframe tbody tr th {\n",
       "        vertical-align: top;\n",
       "    }\n",
       "\n",
       "    .dataframe thead th {\n",
       "        text-align: right;\n",
       "    }\n",
       "</style>\n",
       "<table border=\"1\" class=\"dataframe\">\n",
       "  <thead>\n",
       "    <tr style=\"text-align: right;\">\n",
       "      <th></th>\n",
       "      <th>count</th>\n",
       "    </tr>\n",
       "    <tr>\n",
       "      <th>year</th>\n",
       "      <th></th>\n",
       "    </tr>\n",
       "  </thead>\n",
       "  <tbody>\n",
       "    <tr>\n",
       "      <th>2016</th>\n",
       "      <td>104734</td>\n",
       "    </tr>\n",
       "    <tr>\n",
       "      <th>2017</th>\n",
       "      <td>102138</td>\n",
       "    </tr>\n",
       "    <tr>\n",
       "      <th>2018</th>\n",
       "      <td>98513</td>\n",
       "    </tr>\n",
       "    <tr>\n",
       "      <th>2019</th>\n",
       "      <td>95224</td>\n",
       "    </tr>\n",
       "    <tr>\n",
       "      <th>2020</th>\n",
       "      <td>93983</td>\n",
       "    </tr>\n",
       "  </tbody>\n",
       "</table>\n",
       "</div>"
      ],
      "text/plain": [
       "       count\n",
       "year        \n",
       "2016  104734\n",
       "2017  102138\n",
       "2018   98513\n",
       "2019   95224\n",
       "2020   93983"
      ]
     },
     "execution_count": 287,
     "metadata": {},
     "output_type": "execute_result"
    }
   ],
   "source": [
    "J = (Medicine_clean['agegroup'] != '0-9 år') | (Medicine_clean['agegroup'] != '10-19 år') | (Medicine_clean['agegroup'] != '70-79 år') | (Medicine_clean['agegroup'] != '80-89 år') | (Medicine_clean['agegroup'] != '90 og derover')\n",
    "Medicine_help=Medicine_clean[J]\n",
    "\n",
    "\n",
    "Medicine_congregate = Medicine_help.groupby(['year']).sum()\n",
    "Medicine_congregate.head()"
   ]
  },
  {
   "cell_type": "code",
   "execution_count": 421,
   "metadata": {},
   "outputs": [
    {
     "name": "stdout",
     "output_type": "stream",
     "text": [
      "      year          agegroup       medicinetype    BNØGLE  count  growth_rate\n",
      "2545  2017            0-9 år  N05 Psycholeptica  Personer    754     1.891892\n",
      "2546  2017          10-19 år  N05 Psycholeptica  Personer   2076     4.374057\n",
      "2547  2017          20-29 år  N05 Psycholeptica  Personer   3646     2.762120\n",
      "2548  2017          30-39 år  N05 Psycholeptica  Personer   4708    -1.113212\n",
      "2549  2017          40-49 år  N05 Psycholeptica  Personer   6542    -1.742265\n",
      "2550  2017          50-59 år  N05 Psycholeptica  Personer   8708    -3.768372\n",
      "2551  2017          60-69 år  N05 Psycholeptica  Personer  11253    -4.172699\n",
      "2552  2017          70-79 år  N05 Psycholeptica  Personer  14999    -4.719858\n",
      "2553  2017          80-89 år  N05 Psycholeptica  Personer  21273    -2.902917\n",
      "2554  2017  90 år og derover  N05 Psycholeptica  Personer  28179    -1.454800\n",
      "1970  2018            0-9 år  N05 Psycholeptica  Personer    738    -2.122016\n",
      "1971  2018          10-19 år  N05 Psycholeptica  Personer   2170     4.527938\n",
      "1972  2018          20-29 år  N05 Psycholeptica  Personer   3726     2.194185\n",
      "1973  2018          30-39 år  N05 Psycholeptica  Personer   4606    -2.166525\n",
      "1974  2018          40-49 år  N05 Psycholeptica  Personer   6303    -3.653317\n",
      "1975  2018          50-59 år  N05 Psycholeptica  Personer   8263    -5.110243\n",
      "1976  2018          60-69 år  N05 Psycholeptica  Personer  10628    -5.554074\n",
      "1977  2018          70-79 år  N05 Psycholeptica  Personer  14011    -6.587106\n",
      "1978  2018          80-89 år  N05 Psycholeptica  Personer  20317    -4.493959\n",
      "1979  2018  90 år og derover  N05 Psycholeptica  Personer  27751    -1.518862\n",
      "6117  2019            0-9 år  N05 Psycholeptica  Personer    771     4.471545\n",
      "6118  2019          10-19 år  N05 Psycholeptica  Personer   2273     4.746544\n",
      "6119  2019          20-29 år  N05 Psycholeptica  Personer   3910     4.938272\n",
      "6120  2019          30-39 år  N05 Psycholeptica  Personer   4556    -1.085541\n",
      "6121  2019          40-49 år  N05 Psycholeptica  Personer   6105    -3.141361\n",
      "6122  2019          50-59 år  N05 Psycholeptica  Personer   7837    -5.155513\n",
      "6123  2019          60-69 år  N05 Psycholeptica  Personer   9983    -6.068875\n",
      "6124  2019          70-79 år  N05 Psycholeptica  Personer  13307    -5.024624\n",
      "6125  2019          80-89 år  N05 Psycholeptica  Personer  19330    -4.858001\n",
      "6126  2019  90 år og derover  N05 Psycholeptica  Personer  27152    -2.158481\n",
      "2268  2020            0-9 år  N05 Psycholeptica  Personer    769    -0.259403\n",
      "2269  2020          10-19 år  N05 Psycholeptica  Personer   2538    11.658601\n",
      "2270  2020          20-29 år  N05 Psycholeptica  Personer   4285     9.590793\n",
      "2271  2020          30-39 år  N05 Psycholeptica  Personer   4707     3.314311\n",
      "2272  2020          40-49 år  N05 Psycholeptica  Personer   5999    -1.736282\n",
      "2273  2020          50-59 år  N05 Psycholeptica  Personer   7587    -3.189996\n",
      "2274  2020          60-69 år  N05 Psycholeptica  Personer   9584    -3.996795\n",
      "2275  2020          70-79 år  N05 Psycholeptica  Personer  12656    -4.892162\n",
      "2276  2020          80-89 år  N05 Psycholeptica  Personer  18819    -2.643559\n",
      "2277  2020  90 år og derover  N05 Psycholeptica  Personer  27039    -0.416176\n",
      "4787  2021            0-9 år  N05 Psycholeptica  Personer    759    -1.300390\n",
      "4788  2021          10-19 år  N05 Psycholeptica  Personer   3022    19.070134\n",
      "4789  2021          20-29 år  N05 Psycholeptica  Personer   4928    15.005834\n",
      "4790  2021          30-39 år  N05 Psycholeptica  Personer   5085     8.030593\n",
      "4791  2021          40-49 år  N05 Psycholeptica  Personer   6294     4.917486\n",
      "4792  2021          50-59 år  N05 Psycholeptica  Personer   7656     0.909450\n",
      "4793  2021          60-69 år  N05 Psycholeptica  Personer   9329    -2.660684\n",
      "4794  2021          70-79 år  N05 Psycholeptica  Personer  12368    -2.275601\n",
      "4795  2021          80-89 år  N05 Psycholeptica  Personer  18410    -2.173335\n",
      "4796  2021  90 år og derover  N05 Psycholeptica  Personer  27070     0.114649\n"
     ]
    }
   ],
   "source": [
    "#pct-change\n",
    "\n",
    "\n",
    "\n",
    "\n",
    "# Group the data by agegroup\n",
    "Medicine_clean = Medicine_clean.sort_values(['year', 'agegroup'])\n",
    "Medicin_pct = Medicine_clean.groupby('agegroup')\n",
    "\n",
    "# Calculate the percentage change in count for each year\n",
    "growth_rates = Medicin_pct['count'].pct_change()\n",
    "\n",
    "# Print the result\n",
    "Medicin_pct.head()\n",
    "\n",
    "# Group the data by year and agegroup\n",
    "Medicin_pct = Medicine_clean.groupby(['agegroup'])\n",
    "\n",
    "# Calculate the percentage change in count for each group\n",
    "growth_rates = Medicin_pct['count'].pct_change()\n",
    "\n",
    "# Add the growth_rate series as a new column to the original dataframe\n",
    "Medicine_clean['growth_rate'] = growth_rates*100\n",
    "\n",
    "# Print the results without \"not a number\"\n",
    "\n",
    "Medicine_clean_growth = Medicine_clean.dropna()\n",
    "\n",
    "print(Medicine_clean_growth)"
   ]
  },
  {
   "cell_type": "code",
   "execution_count": 426,
   "metadata": {},
   "outputs": [
    {
     "data": {
      "image/png": "[encoded data removed]",
      "text/plain": [
       "<Figure size 640x480 with 1 Axes>"
      ]
     },
     "metadata": {},
     "output_type": "display_data"
    }
   ],
   "source": [
    "med_pivot = pd.pivot_table(Medicine_clean, values='growth_rate', index=['agegroup'], columns=['year'])\n",
    "\n",
    "# Create figure and axis objects\n",
    "fig, ax = plt.subplots()\n",
    "\n",
    "# Set width of each bar\n",
    "bar_width = 0.15\n",
    "\n",
    "# Create a bar for each year and age group\n",
    "for i, year in enumerate(med_pivot.columns):\n",
    "    x_pos = np.arange(len(med_pivot.index)) + (i * bar_width)\n",
    "    ax.bar(x_pos, med_pivot[year], width=bar_width, label=str(year))\n",
    "\n",
    "# Set x-axis and y-axis labels and ticks\n",
    "ax.set_xticks(np.arange(len(med_pivot.index)))\n",
    "ax.set_xticklabels(med_pivot.index, rotation=45, ha='right')\n",
    "ax.set_xlabel('Age group')\n",
    "ax.set_ylabel('Growth rate')\n",
    "\n",
    "# Set legend\n",
    "ax.legend(title='Year')\n",
    "\n",
    "# Set title\n",
    "ax.set_title('Development in use of psycholeptica by age group')\n",
    "\n",
    "# Show the plot\n",
    "plt.show()"
   ]
  },
  {
   "cell_type": "markdown",
   "metadata": {},
   "source": [
    "# Read and clean data"
   ]
  },
  {
   "cell_type": "code",
   "execution_count": 461,
   "metadata": {},
   "outputs": [
    {
     "name": "stdout",
     "output_type": "stream",
     "text": [
      "       TID     ALDER           HFUDD  INDHOLD  NEWALDER\n",
      "8182  2016  20-24 år  H10 Grundskole    98256  20-29 år\n",
      "8183  2016  25-29 år  H10 Grundskole    64768  20-29 år\n",
      "8184  2016  30-34 år  H10 Grundskole    54424  30-39 år\n",
      "8185  2016  35-39 år  H10 Grundskole    52556  30-39 år\n",
      "8186  2016  40-44 år  H10 Grundskole    61922  40-49 år\n",
      "8187  2016  45-49 år  H10 Grundskole    71064  40-49 år\n",
      "8188  2016  50-54 år  H10 Grundskole    81461  50-59 år\n",
      "8189  2016  55-59 år  H10 Grundskole    83440  50-59 år\n",
      "8190  2016  60-64 år  H10 Grundskole    92212  60-69 år\n",
      "8191  2016  65-69 år  H10 Grundskole    90335  60-69 år\n",
      "               INDHOLD\n",
      "TID  NEWALDER         \n",
      "2016 20-29 år   761756\n",
      "     30-39 år   660739\n",
      "     40-49 år   775672\n",
      "     50-59 år   770664\n",
      "     60-69 år   670651\n",
      "2017 20-29 år   775976\n",
      "     30-39 år   663260\n",
      "     40-49 år   760210\n",
      "     50-59 år   783369\n",
      "     60-69 år   662445\n",
      "2018 20-29 år   783709\n",
      "     30-39 år   666030\n",
      "     40-49 år   752273\n",
      "     50-59 år   789548\n",
      "     60-69 år   659023\n",
      "2019 20-29 år   786147\n",
      "     30-39 år   672533\n",
      "     40-49 år   745166\n",
      "     50-59 år   791886\n",
      "     60-69 år   659446\n",
      "2020 20-29 år   777850\n",
      "     30-39 år   679575\n",
      "     40-49 år   737292\n",
      "     50-59 år   792084\n",
      "     60-69 år   661951\n",
      "2021 20-29 år   779457\n",
      "     30-39 år   694885\n",
      "     40-49 år   725156\n",
      "     50-59 år   795487\n",
      "     60-69 år   667450\n"
     ]
    },
    {
     "name": "stderr",
     "output_type": "stream",
     "text": [
      "C:\\Users\\ladyk\\AppData\\Local\\Temp\\ipykernel_13816\\3668440376.py:23: FutureWarning: The default value of numeric_only in DataFrameGroupBy.sum is deprecated. In a future version, numeric_only will default to False. Either specify numeric_only or select only columns which should be valid for the function.\n",
      "  HFcongregate = HFdropped.groupby(['TID', 'HFUDD']).sum()\n",
      "C:\\Users\\ladyk\\AppData\\Local\\Temp\\ipykernel_13816\\3668440376.py:24: FutureWarning: The default value of numeric_only in DataFrameGroupBy.sum is deprecated. In a future version, numeric_only will default to False. Either specify numeric_only or select only columns which should be valid for the function.\n",
      "  Agecongregate = HFdropped.groupby(['TID', 'NEWALDER']).sum()\n"
     ]
    }
   ],
   "source": [
    "HFUDD11_true = dst.get_data(table_id = 'HFUDD11', variables={'TID':['*'],'ALDER':['*'], 'HFUDD':['*']})\n",
    "#HFUDD11_true = HFUDD11_true.drop() #Drop alle med 2008-2015\n",
    "HFdropped = HFUDD11_true.drop('BOPOMR',axis=1)\n",
    "HFdropped = HFdropped.drop('HERKOMST',axis=1)\n",
    "HFdropped = HFdropped.drop('KØN',axis=1)\n",
    "I = (HFdropped['ALDER'] == 'Alder i alt')\n",
    "HFdropped.drop(HFdropped[I].index,inplace=True)\n",
    "I = (HFdropped['HFUDD'].str[3] != ' ')\n",
    "HFdropped.drop(HFdropped[I].index,inplace=True)\n",
    "I = (HFdropped['TID'].astype(int) < 2016)\n",
    "HFdropped.drop(HFdropped[I].index,inplace=True)\n",
    "I = (HFdropped['TID'].astype(int) > 2021)\n",
    "HFdropped.drop(HFdropped[I].index,inplace=True)\n",
    "I = (HFdropped['ALDER'].str[0] == '1')\n",
    "HFdropped.drop(HFdropped[I].index,inplace=True)\n",
    "I = (HFdropped['HFUDD'] == 'H35 Adgangsgivende uddannelsesforløb')\n",
    "HFdropped.drop(HFdropped[I].index,inplace=True)\n",
    "I = (HFdropped['HFUDD'] == 'H80 Ph.d. og forskeruddannelser')\n",
    "HFdropped.drop(HFdropped[I].index,inplace=True)\n",
    "\n",
    "HFdropped['NEWALDER'] = HFdropped['ALDER'].str[0] + \"0-\" + HFdropped['ALDER'].str[0] + \"9 år\"\n",
    "print(HFdropped.head(10))\n",
    "HFcongregate = HFdropped.groupby(['TID', 'HFUDD']).sum()\n",
    "Agecongregate = HFdropped.groupby(['TID', 'NEWALDER']).sum()\n",
    "\n",
    "\n",
    "\n",
    "uddannelser = HFdropped['HFUDD'].unique().tolist()\n",
    "udannelseslist = ['Grundskole', 'Gymnasiale uddannelser','Erhvervsfaglige uddannelser','Korte videregående uddannelser','Mellemlange videregående uddannelser', 'Bacheloruddannelser', 'Lange videregående uddannelser', 'Uoplyst mv.']\n",
    "print(Agecongregate)\n",
    "Uddannelsesdict = dict(zip(udannelseslist,uddannelser))\n",
    "#print(Uddannelsesdict)\n",
    "#congregate udgøres af 20-69 årige med forskellige uddannelser. Summer ikke til \"Alder i alt\", da der er nogen uddannelser der er fjernet (H35, H80, og øvrige)\n",
    "#print(HFdropped.head(10))\n",
    "#print(HFcongregate.head(10))\n",
    "\n",
    "#to show that there is no missing\n",
    "#print(\"Missing values distribution: \")\n",
    "#print(HFUDD11_true.isnull().mean())\n",
    "#print(\"\")\n"
   ]
  },
  {
   "cell_type": "code",
   "execution_count": 462,
   "metadata": {},
   "outputs": [
    {
     "name": "stdout",
     "output_type": "stream",
     "text": [
      "               Count\n",
      "TID  NEWALDER       \n",
      "2016 20-29 år  26708\n",
      "     30-39 år  31862\n",
      "     40-49 år  51968\n",
      "     50-59 år  70948\n",
      "     60-69 år  79762\n",
      "2017 20-29 år  27994\n",
      "     30-39 år  31724\n",
      "     40-49 år  50286\n"
     ]
    },
    {
     "name": "stderr",
     "output_type": "stream",
     "text": [
      "C:\\Users\\ladyk\\AppData\\Local\\Temp\\ipykernel_13816\\3852084849.py:39: FutureWarning: The default value of numeric_only in DataFrameGroupBy.sum is deprecated. In a future version, numeric_only will default to False. Either specify numeric_only or select only columns which should be valid for the function.\n",
      "  Medicin3congregate = Medicin3_dropped.groupby(['TID', 'HFUDD']).sum()\n",
      "C:\\Users\\ladyk\\AppData\\Local\\Temp\\ipykernel_13816\\3852084849.py:40: FutureWarning: The default value of numeric_only in DataFrameGroupBy.sum is deprecated. In a future version, numeric_only will default to False. Either specify numeric_only or select only columns which should be valid for the function.\n",
      "  Medicin3Agecongregate = Medicin3_dropped.groupby(['TID', 'NEWALDER']).sum()\n"
     ]
    }
   ],
   "source": [
    "#imports MEDICIN3\n",
    "Medicin3_true = dst.get_data(table_id = 'MEDICIN3', variables={'TID':['*'], 'MEDICINTYPE':['*'], 'AGEBYGROUP':['*'], 'UDDANNELSE':['*']})\n",
    "#removes unnecessary columns\n",
    "Medicin3_dropped = Medicin3_true.drop('BNØGLE',axis=1)\n",
    "Medicin3_dropped = Medicin3_dropped.drop('KØN',axis=1)\n",
    "\n",
    "#cleans data so only the necessary variables are left\n",
    "#I = (Medicin3_dropped['KØN'] != \"Køn i alt\")\n",
    "#Medicin3_dropped.drop(Medicin3_dropped[I].index,inplace=True)\n",
    "#I = (Medicin3_dropped['BNØGLE'] != \"Personer\")\n",
    "#Medicin3_dropped.drop(Medicin3_dropped[I].index,inplace=True)\n",
    "I = (Medicin3_dropped['MEDICINTYPE'] != \"N05 Psycholeptica\")\n",
    "Medicin3_dropped.drop(Medicin3_dropped[I].index,inplace=True)\n",
    "I = (Medicin3_dropped['UDDANNELSE'] == \"Uddannelser i alt\")\n",
    "Medicin3_dropped.drop(Medicin3_dropped[I].index,inplace=True)\n",
    "I = (Medicin3_dropped['AGEBYGROUP'] == \"Alder i alt\")\n",
    "Medicin3_dropped.drop(Medicin3_dropped[I].index,inplace=True)\n",
    "I = (Medicin3_dropped['AGEBYGROUP'].str[0] == \"0\")\n",
    "Medicin3_dropped.drop(Medicin3_dropped[I].index,inplace=True)\n",
    "I = (Medicin3_dropped['AGEBYGROUP'].str[0] == \"1\")\n",
    "Medicin3_dropped.drop(Medicin3_dropped[I].index,inplace=True)\n",
    "I = (Medicin3_dropped['AGEBYGROUP'].str[0] == \"7\")\n",
    "Medicin3_dropped.drop(Medicin3_dropped[I].index,inplace=True)\n",
    "I = (Medicin3_dropped['AGEBYGROUP'].str[0] == \"8\")\n",
    "Medicin3_dropped.drop(Medicin3_dropped[I].index,inplace=True)\n",
    "I = (Medicin3_dropped['AGEBYGROUP'].str[0] == \"9\")\n",
    "Medicin3_dropped.drop(Medicin3_dropped[I].index,inplace=True)\n",
    "I = (Medicin3_dropped['INDHOLD'].str[0] == \".\")\n",
    "Medicin3_dropped.drop(Medicin3_dropped[I].index,inplace=True)\n",
    "Medicin3_dropped[\"INDHOLD\"] = Medicin3_dropped[\"INDHOLD\"].astype(int)\n",
    "\n",
    "Medicin3_dropped.rename(columns={'UDDANNELSE':'HFUDD'}, inplace=True)\n",
    "Medicin3_dropped.rename(columns={'INDHOLD':'Count'}, inplace=True)\n",
    "Medicin3_dropped.rename(columns={'AGEBYGROUP':'NEWALDER'}, inplace=True)\n",
    "\n",
    "for key,value in Uddannelsesdict.items():\n",
    "   Medicin3_dropped.HFUDD.replace(key,value,inplace=True)\n",
    "Medicin3_dropped.to_excel(\"output.xlsx\") \n",
    "Medicin3congregate = Medicin3_dropped.groupby(['TID', 'HFUDD']).sum()\n",
    "Medicin3Agecongregate = Medicin3_dropped.groupby(['TID', 'NEWALDER']).sum()\n",
    "print(Medicin3Agecongregate.head(8))\n"
   ]
  },
  {
   "cell_type": "code",
   "execution_count": 474,
   "metadata": {},
   "outputs": [
    {
     "name": "stdout",
     "output_type": "stream",
     "text": [
      "                                                    Count  INDHOLD      andel\n",
      "TID  HFUDD                                                                   \n",
      "2016 H10 Grundskole                                 89878   750438  11.976739\n",
      "     H20 Gymnasiale uddannelser                     17647   378147   4.666704\n",
      "     H30 Erhvervsfaglige uddannelser                80219  1221258   6.568555\n",
      "     H40 Korte videregående uddannelser, KVU         9257   193610   4.781261\n",
      "     H50 Mellemlange videregående uddannelser, MVU  35772   584961   6.115279\n",
      "     H60 Bacheloruddannelser, BACH                   3400    95754   3.550766\n",
      "     H70 Lange videregående uddannelser, LVU        17782   366258   4.855048\n",
      "     H90 Uoplyst mv.                                 7293    49056  14.866683\n",
      "               Count  INDHOLD      andel\n",
      "TID  NEWALDER                           \n",
      "2016 20-29 år  26708   761756   3.506110\n",
      "     30-39 år  31862   660739   4.822176\n",
      "     40-49 år  51968   775672   6.699739\n",
      "     50-59 år  70948   770664   9.206087\n",
      "     60-69 år  79762   670651  11.893220\n",
      "2017 20-29 år  27994   775976   3.607586\n",
      "     30-39 år  31724   663260   4.783041\n",
      "     40-49 år  50286   760210   6.614751\n"
     ]
    }
   ],
   "source": [
    "samlet = Medicin3congregate.join(HFcongregate,how='left',on=['TID','HFUDD'])\n",
    "samletAge = Medicin3Agecongregate.join(Agecongregate,how='left',on=['TID','NEWALDER'])\n",
    "\n",
    "\n",
    "andel=samlet['Count']/samlet['INDHOLD']\n",
    "samlet['andel']=andel*100\n",
    "print(samlet.head(8))\n",
    "andelAge=samletAge['Count'].astype(int)/samletAge['INDHOLD'].astype(int)\n",
    "samletAge['andel']=andelAge*100\n",
    "print(samletAge.head(8))"
   ]
  },
  {
   "attachments": {},
   "cell_type": "markdown",
   "metadata": {},
   "source": [
    "It should be noted that the data could be affected by the age groups, as people tend to educate themselvs more now than a century ago "
   ]
  },
  {
   "cell_type": "markdown",
   "metadata": {},
   "source": [
    "## Explore each data set"
   ]
  },
  {
   "cell_type": "markdown",
   "metadata": {},
   "source": [
    "In order to be able to **explore the raw data**, you may provide **static** and **interactive plots** to show important developments "
   ]
  },
  {
   "cell_type": "markdown",
   "metadata": {},
   "source": [
    "**Interactive plot** :"
   ]
  },
  {
   "cell_type": "markdown",
   "metadata": {},
   "source": [
    "Explain what you see when moving elements of the interactive plot around. "
   ]
  },
  {
   "cell_type": "markdown",
   "metadata": {},
   "source": [
    "# Merge data sets"
   ]
  },
  {
   "cell_type": "markdown",
   "metadata": {},
   "source": [
    "Now you create combinations of your loaded data sets. Remember the illustration of a (inner) **merge**:"
   ]
  },
  {
   "cell_type": "code",
   "execution_count": 103,
   "metadata": {},
   "outputs": [
    {
     "data": {
      "image/png": "[encoded data removed]",
      "text/plain": [
       "<Figure size 1500x700 with 1 Axes>"
      ]
     },
     "metadata": {},
     "output_type": "display_data"
    }
   ],
   "source": [
    "plt.figure(figsize=(15,7))\n",
    "v = venn2(subsets = (4, 4, 10), set_labels = ('Data X', 'Data Y'))\n",
    "v.get_label_by_id('100').set_text('dropped')\n",
    "v.get_label_by_id('010').set_text('dropped' )\n",
    "v.get_label_by_id('110').set_text('included')\n",
    "plt.show()"
   ]
  },
  {
   "cell_type": "markdown",
   "metadata": {},
   "source": [
    "# Analysis"
   ]
  },
  {
   "cell_type": "markdown",
   "metadata": {},
   "source": [
    "To get a quick overview of the data, we show some **summary statistics** on a meaningful aggregation. "
   ]
  },
  {
   "cell_type": "code",
   "execution_count": 372,
   "metadata": {},
   "outputs": [
    {
     "data": {
      "text/plain": [
       "count       60.000000\n",
       "mean      9825.216667\n",
       "std       8162.790382\n",
       "min        738.000000\n",
       "25%       3864.000000\n",
       "50%       7122.500000\n",
       "75%      13483.000000\n",
       "max      28595.000000\n",
       "Name: count, dtype: float64"
      ]
     },
     "execution_count": 372,
     "metadata": {},
     "output_type": "execute_result"
    }
   ],
   "source": [
    "Medicine_clean[\"count\"].describe()"
   ]
  },
  {
   "cell_type": "markdown",
   "metadata": {},
   "source": [
    "MAKE FURTHER ANALYSIS. EXPLAIN THE CODE BRIEFLY AND SUMMARIZE THE RESULTS."
   ]
  },
  {
   "cell_type": "markdown",
   "metadata": {},
   "source": [
    "# Conclusion"
   ]
  },
  {
   "cell_type": "code",
   "execution_count": null,
   "metadata": {},
   "outputs": [],
   "source": []
  },
  {
   "attachments": {},
   "cell_type": "markdown",
   "metadata": {},
   "source": [
    "From the analysis of data over antidepresant use, we can conclude that in genereal antidepressants are more commonly used the older people get, but development over the analysed time period shows that young people (here age 0-30) is increasing the useage over time, while the elder generations is decreasing its use.\n",
    "\n",
    "Other than that we have looked at data divided by education level, and from this we can conclude that idividuals that have only compleated their primary school is way more likely to use antidepressants than people with higher educations  "
   ]
  }
 ],
 "metadata": {
  "kernelspec": {
   "display_name": "base",
   "language": "python",
   "name": "python3"
  },
  "language_info": {
   "codemirror_mode": {
    "name": "ipython",
    "version": 3
   },
   "file_extension": ".py",
   "mimetype": "text/x-python",
   "name": "python",
   "nbconvert_exporter": "python",
   "pygments_lexer": "ipython3",
   "version": "3.9.16"
  },
  "toc-autonumbering": true,
  "vscode": {
   "interpreter": {
    "hash": "47ef90cdf3004d3f859f1fb202523c65c07ba7c22eefd261b181f4744e2d0403"
   }
  }
 },
 "nbformat": 4,
 "nbformat_minor": 4
}
